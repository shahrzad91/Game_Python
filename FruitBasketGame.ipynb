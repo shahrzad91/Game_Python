{
 "cells": [
  {
   "cell_type": "code",
   "execution_count": 7,
   "id": "4b303ead-d17f-4502-9f54-de50c271df41",
   "metadata": {},
   "outputs": [],
   "source": [
    "import random\n",
    "\n",
    "# Dictionary of fruits and their point values\n",
    "\n",
    "fruits_points = {\n",
    "    \"apple\" : 2,\n",
    "    \"banana\" : 8 ,\n",
    "    \"cherry\" : 12 ,\n",
    "    \"blueberry\" : 18,\n",
    "    \"Mango\" : 4 ,\n",
    "    \"strawberry\" : 13 ,\n",
    "    \"coconut\" : 11 ,\n",
    "    \" orange\" : 7 ,\n",
    "    \"peach\" : 20 ,\n",
    "    \"Figs\" : 16\n",
    "}\n",
    "\n",
    "# Function to show rules\n",
    "\n",
    "def show_rules():\n",
    "    print(\"🎮 Welcome to the Fruit Basket Game!\")\n",
    "    print(\"Guess the fruit name correctly to collect it in your basket and earn points.\")\n",
    "    print(\"You have 3 tries for each round\")\n",
    "\n",
    "# choose random fruit\n",
    "def choose_random_fruit(mydict):\n",
    "    mylist = list(mydict.keys())\n",
    "    random_fruit = random.choice( mylist, )\n",
    "    return random_fruit\n"
   ]
  },
  {
   "cell_type": "code",
   "execution_count": 16,
   "id": "b7c10e66-3270-4da3-a32d-e21bc754abb7",
   "metadata": {},
   "outputs": [],
   "source": [
    "\n",
    "def choose_random_fruit(mydict):\n",
    "    mylist = list(mydict.keys())\n",
    "    random_fruit = random.choice( mylist, )\n",
    "    return random_fruit"
   ]
  },
  {
   "cell_type": "code",
   "execution_count": 17,
   "id": "7dfbad59-0c13-42e3-858c-198fa43d929a",
   "metadata": {},
   "outputs": [
    {
     "data": {
      "text/plain": [
       "'Figs'"
      ]
     },
     "execution_count": 17,
     "metadata": {},
     "output_type": "execute_result"
    }
   ],
   "source": [
    "choose_random_fruit(fruits_points)"
   ]
  },
  {
   "cell_type": "code",
   "execution_count": null,
   "id": "2d937e54-11bc-42d9-a911-b4de85f41cff",
   "metadata": {},
   "outputs": [],
   "source": []
  }
 ],
 "metadata": {
  "kernelspec": {
   "display_name": "Python 3 (ipykernel)",
   "language": "python",
   "name": "python3"
  },
  "language_info": {
   "codemirror_mode": {
    "name": "ipython",
    "version": 3
   },
   "file_extension": ".py",
   "mimetype": "text/x-python",
   "name": "python",
   "nbconvert_exporter": "python",
   "pygments_lexer": "ipython3",
   "version": "3.12.9"
  }
 },
 "nbformat": 4,
 "nbformat_minor": 5
}
