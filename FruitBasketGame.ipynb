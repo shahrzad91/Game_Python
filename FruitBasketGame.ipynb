{
 "cells": [
  {
   "cell_type": "code",
   "execution_count": 18,
   "id": "4b303ead-d17f-4502-9f54-de50c271df41",
   "metadata": {},
   "outputs": [],
   "source": [
    "import random\n",
    "\n",
    "# Dictionary of fruits and their point values\n",
    "\n",
    "fruits_points = {\n",
    "    \"Apple\" : 2,\n",
    "    \"Banana\" : 8 ,\n",
    "    \"Cherry\" : 12 ,\n",
    "    \"Blueberry\" : 18,\n",
    "    \"Mango\" : 4 ,\n",
    "    \"Strawberry\" : 13 ,\n",
    "    \"Coconut\" : 11 ,\n",
    "    \"Orange\" : 7 ,\n",
    "    \"Peach\" : 20 ,\n",
    "    \"Figs\" : 16\n",
    "}\n",
    "\n",
    "# Function to show rules\n",
    "\n",
    "def show_rules():\n",
    "    print(\"🎮 Welcome to the Fruit Basket Game!\")\n",
    "    print(\"Guess the fruit name correctly to collect it in your basket and earn points.\")\n",
    "    print(\"You have 3 tries for each round\")\n",
    "\n",
    "# choose random fruit\n",
    "def choose_random_fruit(mydict):\n",
    "    mylist = list(mydict.keys())\n",
    "    random_fruit = random.choice( mylist, )\n",
    "    return random_fruit\n",
    "    \n",
    "# Function to play one round"
   ]
  },
  {
   "cell_type": "code",
   "execution_count": 29,
   "id": "2d937e54-11bc-42d9-a911-b4de85f41cff",
   "metadata": {},
   "outputs": [],
   "source": [
    "\n",
    "def play_round():\n",
    "    originalfruit = choose_random_fruit(fruits_points)\n",
    "    print(\"The fruit list is:\", ', '.join(fruits_points.keys()))\n",
    "    tries = 3\n",
    "    while tries>0 :\n",
    "        fruit = input(\"Please enter your guess \").strip().lower()\n",
    "        if fruit == originalfruit :\n",
    "            print(\"✅ Congratulations! Your guess is correct 🎉 \")\n",
    "            return fruit\n",
    "        else :\n",
    "            tries -=1 \n",
    "            print(\"❌ Sorry! Your guess is wrong.\")\n",
    "    print(f\"😢Sorry, the correct fruit was: {originalfruit}\")\n",
    "    return None\n",
    "\n",
    "# Start game\n",
    "def start_game():\n",
    "    show_rules()\n",
    "    basket = []\n",
    "    score = 0\n",
    "\n",
    "    while True:\n",
    "        result = play_round()\n",
    "        if result:\n",
    "            basket.append(result)\n",
    "            #take value of keys\n",
    "            score += fruits_points[result]\n",
    "\n",
    "        again = input(\"Do you want to play another round? (yes/no): \").strip().lower()\n",
    "        if again != 'yes':\n",
    "            break\n",
    "\n",
    "    print(\"\\n🎉 Game Over!\")\n",
    "    print(\"🧺 Your basket:\", basket)\n",
    "    print(f\"🏆 Your total score: {score} points\")\n",
    "    print(\"Thanks for playing! 🍓🍊🍌\")                \n",
    "    "
   ]
  },
  {
   "cell_type": "code",
   "execution_count": 30,
   "id": "4f4ef358-4f5c-44bb-b918-06cd40e68f27",
   "metadata": {},
   "outputs": [
    {
     "name": "stdout",
     "output_type": "stream",
     "text": [
      "🎮 Welcome to the Fruit Basket Game!\n",
      "Guess the fruit name correctly to collect it in your basket and earn points.\n",
      "You have 3 tries for each round\n",
      "The fruit list is: apple, banana, cherry, blueberry, Mango, strawberry, coconut,  orange, peach, Figs\n"
     ]
    },
    {
     "name": "stdin",
     "output_type": "stream",
     "text": [
      "Please enter your guess  Figs\n"
     ]
    },
    {
     "name": "stdout",
     "output_type": "stream",
     "text": [
      "❌ Sorry! Your guess is wrong.\n"
     ]
    },
    {
     "name": "stdin",
     "output_type": "stream",
     "text": [
      "Please enter your guess  cherry\n"
     ]
    },
    {
     "name": "stdout",
     "output_type": "stream",
     "text": [
      "❌ Sorry! Your guess is wrong.\n"
     ]
    },
    {
     "name": "stdin",
     "output_type": "stream",
     "text": [
      "Please enter your guess  blueberry\n"
     ]
    },
    {
     "name": "stdout",
     "output_type": "stream",
     "text": [
      "❌ Sorry! Your guess is wrong.\n",
      "😢Sorry, the correct fruit was: banana\n"
     ]
    },
    {
     "name": "stdin",
     "output_type": "stream",
     "text": [
      "Do you want to play another round? (yes/no):  yes\n"
     ]
    },
    {
     "name": "stdout",
     "output_type": "stream",
     "text": [
      "The fruit list is: apple, banana, cherry, blueberry, Mango, strawberry, coconut,  orange, peach, Figs\n"
     ]
    },
    {
     "name": "stdin",
     "output_type": "stream",
     "text": [
      "Please enter your guess  banana\n"
     ]
    },
    {
     "name": "stdout",
     "output_type": "stream",
     "text": [
      "❌ Sorry! Your guess is wrong.\n"
     ]
    },
    {
     "name": "stdin",
     "output_type": "stream",
     "text": [
      "Please enter your guess  blueberry\n"
     ]
    },
    {
     "name": "stdout",
     "output_type": "stream",
     "text": [
      "❌ Sorry! Your guess is wrong.\n"
     ]
    },
    {
     "name": "stdin",
     "output_type": "stream",
     "text": [
      "Please enter your guess  mango\n"
     ]
    },
    {
     "name": "stdout",
     "output_type": "stream",
     "text": [
      "❌ Sorry! Your guess is wrong.\n",
      "😢Sorry, the correct fruit was: apple\n"
     ]
    },
    {
     "name": "stdin",
     "output_type": "stream",
     "text": [
      "Do you want to play another round? (yes/no):  yes\n"
     ]
    },
    {
     "name": "stdout",
     "output_type": "stream",
     "text": [
      "The fruit list is: apple, banana, cherry, blueberry, Mango, strawberry, coconut,  orange, peach, Figs\n"
     ]
    },
    {
     "name": "stdin",
     "output_type": "stream",
     "text": [
      "Please enter your guess  coconut\n"
     ]
    },
    {
     "name": "stdout",
     "output_type": "stream",
     "text": [
      "✅ Congratulations! Your guess is correct 🎉 \n"
     ]
    },
    {
     "name": "stdin",
     "output_type": "stream",
     "text": [
      "Do you want to play another round? (yes/no):  no\n"
     ]
    },
    {
     "name": "stdout",
     "output_type": "stream",
     "text": [
      "\n",
      "🎉 Game Over!\n",
      "🧺 Your basket: ['coconut']\n",
      "🏆 Your total score: 11 points\n",
      "Thanks for playing! 🍓🍊🍌\n"
     ]
    }
   ],
   "source": [
    "start_game()"
   ]
  },
  {
   "cell_type": "code",
   "execution_count": null,
   "id": "fcd44da8-c3eb-44e3-83ae-329e74fdf996",
   "metadata": {},
   "outputs": [],
   "source": []
  }
 ],
 "metadata": {
  "kernelspec": {
   "display_name": "Python 3 (ipykernel)",
   "language": "python",
   "name": "python3"
  },
  "language_info": {
   "codemirror_mode": {
    "name": "ipython",
    "version": 3
   },
   "file_extension": ".py",
   "mimetype": "text/x-python",
   "name": "python",
   "nbconvert_exporter": "python",
   "pygments_lexer": "ipython3",
   "version": "3.12.9"
  }
 },
 "nbformat": 4,
 "nbformat_minor": 5
}
